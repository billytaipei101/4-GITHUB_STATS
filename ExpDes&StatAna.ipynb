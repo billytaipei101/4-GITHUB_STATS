{
 "cells": [
  {
   "cell_type": "markdown",
   "metadata": {},
   "source": [
    "**Experimental Design and Statistical Analysis**\n",
    "_______________________________________________________\n",
    "\n",
    "This is the Self-study excerpt of the book by  titled Experimental Analysis and Multivariate Statistical Analysis; the book introduces the use of SAS but in this notebook I will focus on the use of R. Thus, this software along with the suggested packages along the script is required to obtain the same figures and results. The document with R extension (.R) only contains the parts of the code being addressed within the notebook.\n",
    "\n",
    "**Table of Contents** \n",
    "\n",
    "1. [Experimental Design](#exp_design) #part ok\n",
    "\n",
    "    1.1. [The Experimental Design](#the_exp_design) #chapter ok\n",
    "    \n",
    "    1.2. "
   ]
  },
  {
   "cell_type": "markdown",
   "metadata": {},
   "source": [
    "<a id=\"exp_design\"></a>\n",
    "# Experimental Design\n",
    "<a id=\"the_exp_design\"></a>\n",
    "## The Experimental Design\n",
    "\n",
    "### Basics of Experimental Designs\n",
    "\n",
    "As defined by Leedy, research is a systematic quest for undiscovered truth \\cite{leedy2005practical}. In this definition, the quest is systematic because it uses scientific procedures to solving a problem and the truth sought, should be something that is unknown at the time, which implies that the researcher has conducted a thoughtful literature search to ascertain that the answer to the experimental question was not addressed in previous studies.\n",
    "\n",
    "A _true experiment_ may be defined as a study in which certain independent variables are manipulated, their effect on one or more dependent variables is determined, and the levels (i.e. values) of these independent variables are assigned at random to the experimental units in the study. Such experiments allow the researcher to develop a statistical model and estimate its validity. An _experimental unit_ must be carefully defined; it may be a part, a person, a class, a month, or some other unit depending of the problem. The experimental units make up a _universe_ of all such units, present or future, and a _population_ is defined as measurements that might be taken on all experimental units in the universe. There may be several populations defined on the same experimental units \\cite{hicks1999fundamental}.\n",
    "\n",
    "Manipulation and randomization are essential for a true experiment from which one may be able to infer cause and effect. Sometimes it is not always feasible to assign some variables to the experimental units at random; although it may be possible to assign some variables to the experimental units at random, it may be possible to run a _quasi-experiment_ in which groups of units are assigned to various levels of the independent variable randomly. Randomizing is a technique used to assure a high probability of group equality on many variables that escape of proper control.\n",
    "\n",
    "There are other types of research that are not experimental. One of the most common is the _ex-post-facto_ research. The values of the variables have been determined by circumstances beyond the control of the experimenter, the variables have already acted, and the research measure only what has occurred (e.g. Studies showing a high incidence of cancer in people who smoke heavily). However, such inferences are dangerous, since the researches cannot claim causality unless they are able to rule out other competing hypotheses. In this category are **survey research**, **historical research** and **developmental research**. All these investigations may use statistical methods to analyze data collected but none is really experimental in nature. There are three phases to bear in mind to make a meaningful study: The planning stage, the design stage and the analysis."
   ]
  },
  {
   "cell_type": "markdown",
   "metadata": {},
   "source": [
    "##### Experimental Designs\n",
    "\n",
    "Illustrations of true experiments and ex-post-facto experiments often use techniques such as regression and correlation. For example in a regression problem, levels of the independent variable $X$ are set, a level of $X$ is assigned at random to each experimental unit, observations are made on the dependent variable $Y$, and an equation for predicting $Y$ from $X$ over the range of specified $X's$ is sought. Such studies are true experiments.\n",
    "A correlation problem may involve a sample of experimental units for which two variables ($X$ and $Y$) have acted, the resulting ($x$ and $y$) pairs are plotted to look for a relationship, and a correlation coefficient is calculated to measure the strength of the relationship. Such studies are ex-post-facto studies."
   ]
  },
  {
   "cell_type": "markdown",
   "metadata": {},
   "source": [
    "### The Experiment\n",
    "\n",
    "The experiment includes a statement of the problem to be solved. A careful statement of the problem goes a long way toward its solution. Much care must be taken to spell out the problem in terms that are well understood and point the way in which the research might be conducted.\n",
    "\n",
    "#### Response variables\n",
    "\n",
    "The statement of the problem must include reference to a least one characteristic of an experimental unit on which information is to be obtained. Such characteristics are called _response_ or _dependent variables_. The response variable may be _qualitative_ or _quantitative_ response. The outcome of a true experiment occurs at random, so a response variables is a random variable. Knowledge of such a variable is essential because the shape of its distribution often dictates what statistical test can be used in subsequent data analysis. In addition to a statement of the problem that includes reference to a response variable, one must ask the following questions about the measurement method.\n",
    "\n",
    "1. What instruments are necessary to measure the variable?\n",
    "2. How accurately can the variable be measured?\n",
    "\n",
    "#### Independent variables\n",
    "\n",
    "Many controllable experimental variables, called independent variables or factors, may contribute to the value of the response variable. *Qualitative factors* have levels that vary by category rather than numerical degree. *Quantitative factors*,  have levels that are counts of measurements. The experimenter must decide which factors will be held constant, to be manipulated at certain specified levels, and which will be averaged out by a process of randomization.\n",
    "\n",
    "Factors whose levels are set at specified values are called _fixed effects_ , and those whose levels are randomly selected from all possible levels are called _random effects_. When at least two factors are being considered, one must also ask: How are the factor levels to be combined? Each combination of levels from two or more factors is called a *treatment combination*. If at least one value of the response is observed at each treatment combination, the experiment is called a (complete) *factorial experiment*, as in the [Factorial Experiment Arrangement table](#factotable). An experiment in which the levels of one factor are chosen within the levels of another factor is a *nested experiment*, as in Table [Nested Experiment Arrangement](#nestedtable)."
   ]
  },
  {
   "cell_type": "markdown",
   "metadata": {},
   "source": [
    "##### Factorial Experiment\n",
    "\n",
    "Consider an experiment in which the factor $A$ is to be considered at three levels, and a second factor $B$ is to be considered at two levels. Two observations are to be made at each treatment combination. If the $3 \\times 2 = 6$ treatment combinations can be set in the following way, a factorial experiment will be possible. Notice that both levels of factor $B$ can be used with the three levels of factor $A$."
   ]
  },
  {
   "cell_type": "markdown",
   "metadata": {},
   "source": [
    "<a id=\"factotable\"></a>\n",
    "###### Factorial Experiment Arrangement\n",
    "|          |      |**Factor A**  ||\n",
    "| :----:   |:----:| :----:| :----:|\n",
    "|**Factor B**|  1   |  2    |  3    |\n",
    "|          |  -   |  -    | -     |\n",
    "|  1       |  -   |  -    | -     |\n",
    "|          |  -   |  -    | -     |\n",
    "|          |  -   |  -    | -     |\n",
    "|   2      |  -   |  -    | -     |\n",
    "|          |  -   |  -    | -     |"
   ]
  },
  {
   "cell_type": "markdown",
   "metadata": {},
   "source": [
    "##### Nested Experiment\n",
    "\n",
    "Sometimes one chooses three suppliers and randomly selects two batches of material from each for chemical analysis, letting $A$ denote the supplier and $B$ denote the batch. Such an experiment has the nested arrangement, as illustrated in Table [Nested Experiment Arrangement](#nestedtable). This involves six sets of data, like the factorial arrangement in Table [Factorial Experiment Arrangement](#factotable), but now the factors are in a decidedly different arrangement. The two levels of factor $B$ associated with level 1 of factor $A$ cannot be used with levels 2 and 3 of factor $A$."
   ]
  },
  {
   "cell_type": "markdown",
   "metadata": {},
   "source": [
    "<a id=\"nestedtable\"></a>\n",
    "###### Nested Experiment Arrangement\n",
    "|           |   \t| **Factor A**    \t|        \t|     \t|   \t|\n",
    "|:--------:\t|:---:\t|:---------:|:---:\t|:---------:|:---:\t|\n",
    "| 1        \t|   \t| 2       \t|   \t| 3       \t|   \t|\n",
    "| Batch B  \t|   \t| Batch B \t|   \t| Batch B \t|   \t|\n",
    "| 1        \t| 2 \t| 3       \t| 4 \t| 5       \t| 6 \t|\n",
    "| -        \t| - \t| -       \t| - \t| -       \t| - \t|\n",
    "| -        \t| - \t| -       \t| - \t| -       \t| - \t|\n",
    "| -        \t| - \t| -       \t| - \t| -       \t| - \t|"
   ]
  },
  {
   "cell_type": "markdown",
   "metadata": {},
   "source": [
    "### The Design\n",
    "\n",
    "The investigator needs an experimental design for obtaining data that provide objective results with a minimum expenditure of time and resources. In order to correctly assess how many observations are needed, one have to considerate three aspects\n",
    "\n",
    "1. how large a difference is to be detected\n",
    "2. how much variation is present\n",
    "3. what size risks can be tolerated\n",
    "\n",
    "If such information is missing, one best advised to take as large a sample as possible. In practice, the sample size is often quite arbitrary; however, the availability of tables and statistical software often make it possible to determine the sample size in an objective fashion \\cite{hicks1999fundamental}.\n",
    "\n",
    "% pending to expand examples on how to determine sample size\n",
    "\n",
    "Once a decision has been made to control certain variables at specified levels, there are always a number of other variables that cannot be controlled. To average out the effects of these uncontrolled variables, it is necessary to randomize the order of experimentation. Randomization will allow the experimenter to assume that the measurement errors are independent, a common assumption in most statistical analyses. Independent variables may be purposefully introduced into the study because they are of interest, because they represent restrictions on randomization, or, indeed, because they are somewhat extraneous and not of interest to the experimenter. When deciding how such variables should be handled, one should seek to maximize the systematic variation of factors of interest and to minimize error (i.e. unexplained) variation, including so-called errors of measurement, by controlling the systematic variation of the factors that are not of interest. Kerlinger refers to this as the max-min-con principle of experimental design. Are basically three ways to handle independent variables:\n",
    "\n",
    "1. Rigid control, the factors remain fixed throughout the experiment\n",
    "2. Manipulate or set at levels of interest\n",
    "3. Randomization\n",
    "\n",
    "When factors remain fixed, any inferences drawn from the experiment are valid only for the fixed conditions. Variables that are manipulated or set at levels of interest are those whose effects on the response variable are to be studied. They may be either qualitative or quantitative, and their levels may be either fixed or random. Every effort should be made to include extreme levels, to provide the opportunity to maximize any effects that may be present. \n",
    "\n",
    "On a different account, it is also of prime importance that the order of experimentation (This means that each observation within an experiment is taken in a random order after tossing a dice or flipping a coin) is randomized in order to average out the effects of variables that cannot be controlled, such as indicated by the numbers in Table [Randomization in a Factorial Experiment](#rando_factotable); such averaging does not remove those effects completely, they only increase the variation in the observed data. A function on how to completely randomize the order of data acquisition can be found in the subsection [Randomization in a Factorial Design](#rando_factofunct)"
   ]
  },
  {
   "cell_type": "markdown",
   "metadata": {},
   "source": [
    "<a id=\"rando_factotable\"></a>\n",
    "###### Randomization in a Factorial Experiment\n",
    "|          |      |**Factor A**  ||\n",
    "| :----:   |:----:| :----:| :----:|\n",
    "|**Factor B**|  _1_   |  _2_    |  _3_    |\n",
    "|          |  10   |  18    | 6     |\n",
    "|  _1_       |  11   |  5    | 1     |\n",
    "|          |  17   |  16    | 2     |\n",
    "|          |  9   |  3    | 14     |\n",
    "|   _2_      |  4   |  7    | 15     |\n",
    "|          |  12   |  8    | 13     |"
   ]
  },
  {
   "cell_type": "markdown",
   "metadata": {},
   "source": [
    "Once the experimenters have agreed upon the experimental design and the randomization procedure, they can set up a mathematical model to describe the experiment. This model will show the response variable as a function of all factors to be studied and any restrictions imposed on the experiment as a result of the method of randomization. A typical model description for the experiment layout presented in Table [Randomization in a Factorial Experiment](#rando_factotable) is described in the following Equation.\n",
    "\n",
    "$$\n",
    "Y_{ij}= \\mu+\\beta_i+\\tau_j+\\varepsilon_{(ij)} \\label{eq:1} % Basis equation\n",
    "$$\n",
    "\n",
    "with $Y_{ij}$  the measured variable, $\\mu$ a common effect in all observations, $\\beta_i$ the **Factor B** effect (where $i = 1, 2$), and $\\tau_j$ the **Factor A** effect (where $j = 1, 2, 3$), and $\\varepsilon_{(ij)}$ the random error in the experiment.\n",
    "\n",
    "Finally and since the objective of the research is to shed light on a stated problem, one next expresses the problem in terms of a testable _hypotheses_. A research hypothesis is a formal statement of what the experimenter expects to find in the data. For example, the $i$ treatments will produce different averages of the response variable. Statisticians usually state their hypotheses in null form, since these are the only easily testable statements. For example, the $i$ treatments average will not have significant differences. A null hypothesis usually can be expressed in terms of the mathematical model set up in the last step of the design phase."
   ]
  },
  {
   "cell_type": "markdown",
   "metadata": {},
   "source": [
    "### The Analysis\n",
    "\n",
    "This step starts with data collection as described in connection with the design. If the experiment is complicated, a pilot run may be used to check details and make sure that no critical details have been overlooked. Once collected, the data should be prepared for manual or computer analysis. The preparation of graphical displays, inspection of those displays, and computation of appropriate numerical summaries follows data collection. The decisions about what analyses to perform should be expressed in terms that are meaningful for both, to the experimenter and to those expected to receive the report.\n",
    "An investigative process has built-in self-correction. It is an iterative process that moves us closer to the truth at each stage. Statistics enters such process at two points: (1) the design of the experiment and (2) the analysis and interpretation of the experimental results. When certain hypotheses appear to be tenable, these results should be used as feedback to design a better experiment."
   ]
  },
  {
   "cell_type": "markdown",
   "metadata": {},
   "source": [
    "### Examples\n",
    "\n",
    "Examples 1.5.1 and 1.5.2 from \\cite{hicks1999fundamental} are but two illustrations of how projects are organized into three phases: *experiment*, *design* and *analysis*.\n",
    "\n",
    "#### Salk Vaccine Experiment\n",
    "\n",
    "The mathematical model of this experiment could be written as\n",
    "\n",
    "$$\n",
    "Y_{ij}= \\mu+\\tau_j+\\varepsilon_{ij}\n",
    "$$\n",
    "\n",
    "Where $Y_{ij}$ is equal to 0 or 1: 0 if no polio is diagnosed and 1 if polio is found. The subscript\n",
    "$i$ represents the child, a number from 1 to approximately 200000. The subscript $j$ represents the treatment received by the $i^{th}$ child: 1 if treated with *Salk vaccine* and 2 if treated with a *placebo*. $\\mu$ is a constant or general average of the 0's and 1's for the whole population, $\\tau_j$ is the effect of the $j^{th}$ treatment, and $\\varepsilon_{ij}$ is a random error associated with the $i^{th}$ child receiving treatment $j$.\n",
    "\n",
    "Letting $n_j$ denote the number of children who receive treatment $j$, the proportion of children contracting polio who received treatment $j$ is\n",
    "\n",
    "$$\n",
    "P_j=\\frac{\\sum_{i=1}^{n_j} Y_{ij}}{n_j}\\label{eq:3}\\tag{3}\n",
    "$$\n",
    "\n",
    "and the proportion contracting polio in the total sample of $n=n_1+n_2$ children is \n",
    "\n",
    "$$\n",
    "P=\\frac{\\sum_{i=1}^{n_1} Y_{i1} + \\sum_{i=1}^{n_2} Y_{i2}}{n_1 + n_2}\\label{eq:4}\\tag{4}\n",
    "$$\n",
    "\n",
    "Use of $P_j$ indicates that the proportion contracting polio who receive treatment $j$ is a random variable *before* the experiment is conducted. The observed proportion *after* conducting the experiment is denoted $p_j$.\n",
    "Letting $\\theta_j$ denote the true proportion in the $j^{th}$ population who contract polio, the statistical hypothesis to be tested is\n",
    "\n",
    "$$\n",
    "H_0=\\theta_1=\\theta_2\n",
    "$$\n",
    "\n",
    "with alternative\n",
    "\n",
    "$$\n",
    "H_0=\\theta_1<\\theta_2\n",
    "$$\n",
    "\n",
    "The form of the alternative hypothesis indicates that we are interested in showing that the true proportion contracting polio will be less for treatment 1 (*vaccine*) than for treatment 2 (*placebo*).\n",
    "Approximately $0.09\\%$ of all children contract polio, and (200,000)(0.0009)=180 is sufficiently large, so the sample proportions have approximately normal distribution. Thus,\n",
    "\n",
    "$$\n",
    "Z=\\frac{P_1-P_2}{\\sqrt{P(1-P)[(1/n_1)+(1/n_2)]}} \\label{eq:5}\\tag{5}\n",
    "$$\n",
    "\n",
    "is an appropriate test statistic. When the null hypothesis ($H_0=\\theta_1=\\theta_2$) is true, $Z$ has an approximate normal distribution with mean 0 and variance 1.\n",
    "The results of the experiment are summarized in Table tab_polio. When Equations [3](#mjx-eqn-eq:3),  [4](#mjx-eqn-eq:4) and [5](#mjx-eqn-eq:5) are used with those results, an observed value of\n",
    "\n",
    "$$\n",
    "z\\approx \\frac{(28\\times10^{-5})-(71\\times10^{-5})}{\\sqrt{[49\\times10^{-5}][1-(49\\times10^{-5})][(1/200,745)+(1/201,229)]}}\\approx-6.14\n",
    "$$\n",
    "\n",
    "is obtained. The probability of observing a value of $Z$ as extreme as $-6.14$ when the null hypothesis is true is $P(Z\\leq-6.14)\\approx4.126\\times10^{-10}$. Thus, the likelihood of observing a difference of this magnitude when the Salk vaccine has no effect is less than one in a billion. This gives a very strong indication that the researchers should reject $H_0$ and conclude that the vaccine is effective. Conversely the R code for obtaining this result can be found below.\n",
    "\n",
    "###### Polio Experiment Results\n",
    "| Treatment | Sample Size      _*_| Number Contracting Polio   |  Proportion Contracting Polio |\n",
    "|:----:     |:--------------:  |:----:|:----:|\n",
    "| *Salk Vaccine* | $n_1=200745$ | 56   | $p_1\\approx 28\\times 10^{-5}$|\n",
    "| *Placebo*      | $n_2=201229$ | 142  | $p_2\\approx 71\\times 10^{-5}$|\n",
    "|**Totals**      | $n=401974$   | 198  | $p\\approx 49\\times 10^{-5}$  |\n"
   ]
  },
  {
   "cell_type": "code",
   "execution_count": 2,
   "metadata": {},
   "outputs": [
    {
     "data": {
      "text/html": [
       "-6.09631730328499"
      ],
      "text/latex": [
       "-6.09631730328499"
      ],
      "text/markdown": [
       "-6.09631730328499"
      ],
      "text/plain": [
       "[1] -6.096317"
      ]
     },
     "metadata": {},
     "output_type": "display_data"
    }
   ],
   "source": [
    "n1 <- 200745      # sample size of those who received Salk vaccine as treatment\n",
    "n2 <- 201229      # sample size of those who received placebo as treatment\n",
    "n  <- n1 + n2     # Total sample size\n",
    "num_pol1 <- 56    # Number of children who contracted polio and received Salk vaccine\n",
    "num_pol2 <- 142   # Number of children who contracted polio and received Placebo\n",
    "num_pol  <- num_pol1+num_pol2 # Total number of children who contracted polio\n",
    "P1 <- num_pol1/n1 # Proportion of children who were diagnosed with polio and received Salk vaccine 1-((n1-num_pol1)/n1)\n",
    "P2 <- num_pol2/n2 # Proportion of children who were diagnosed with polio and received Placebo      1-((n2-num_pol2)/n2)\n",
    "P  <- num_pol/n   \n",
    "z  <- (P1 - P2)/sqrt((P*(1-P))*((1/n1)+(1/n2)))\n",
    "z"
   ]
  },
  {
   "cell_type": "markdown",
   "metadata": {},
   "source": [
    "#### Cutting Tool Experiment\n",
    "\n",
    "An experiment was designed to study the effect of several factors on the power requirements for cutting metal with ceramic tools. The metal was cut on a lathe, and the vertical component of a dynamometer reading. Since this component is proportional to the horsepower requirements in making the cut, it was taken as the measured variable, $Y$. The vertical component is measured in millimeters of deflection on a recording instrument. Some of the factors that might affect this deflection are tool types, angle of tool edge bevel, type of cut, depth of cut, feed rate, and spindle speed. It was agreed to hold some factors constant because they represent typical operating conditions. The main objective of the study was to determine the effect of three factors (tool type, angle of edge bevel, and type of cut) on the power requirements. Since only two ceramic tool types were available, this factor was considered at two levels. The angle of tool edge bevel was also set at two levels. 15º and 30º, representing the extremes for normal operation. The type of cut was either continuous or interrupted, two levels.\n",
    "\n",
    "There are therefore two fixed levels for each of three factors or $2^3$ conditions, this is called a $2^3$ factorial experiment. The levels of two factors (type of tool and type of cut) are qualitative, whereas the angle of edge bevel is a quantitative factor. It was decided to take four observations under each of the eight conditions, making a total of 32 runs in a completely randomized order. Complete randomization ensures the averaging out of any effects that might be correlated with the time of the experiment. The mathematical model for this experiment and design would be\n",
    "\n",
    "$$\n",
    "Y_{ijkm}=\\mu+T_i+B_j+TB_{ij}+C_k+TC_{ik}+BC_{jk}+TBC_{ijk}+E_{m(ijk)}\n",
    "$$\n",
    "\n",
    "with $Y_{ijkm}$ the measured variable, $\\mu$ a common effect in all observations (the true mean of the population from which all the data came), $T_i$ the tool type effect (where $i = 1, 2$), $B_j$ the angle of bevel (where $j = 1, 2$) with level 1 the 15º angle, $C_k$ the type of cut (where $k = 1, 2$) with level 1 the continuous cut, and $\\varepsilon_{m(ijk)}$ the random error in the experiment (where $m = 1, 2, 3, 4$). The other terms stand for interactions between the main factors $T$, $B$, and $C$. The results in millimeter deflection are given in Table [Power requirement Data](#cut_table), below it can also be found the R code for generating this data frame and using the package `EMSaov` with the given model and fixed effects produces the ANOVA summary in Table [ANOVA for Power Requirement Data](#cut_table_anova)."
   ]
  },
  {
   "cell_type": "markdown",
   "metadata": {},
   "source": [
    "<a id=\"cut_table\"></a>\n",
    "###### Power requirement Data"
   ]
  },
  {
   "cell_type": "code",
   "execution_count": 3,
   "metadata": {},
   "outputs": [],
   "source": [
    "power_cut <- structure(list(cut = structure(c(rep(2L,16),c(rep(1L,16))),\n",
    "                                            .Label = c(\"Continuous\",\"Interrupted\"),\n",
    "                                            class = \"factor\"),\n",
    "                            tool   = structure(c(rep(c(rep(2L,8),rep(1L,8)),2)),\n",
    "                                               .Label = c(\"Tool1\",\"Tool2\"),\n",
    "                                               class = \"factor\"),\n",
    "                            bevel = structure(c(rep(c(rep(2L,4),rep(1L,4)),4)),\n",
    "                                              .Label = c(\"15\",\"30\"),\n",
    "                                              class = \"factor\"),\n",
    "                            mil_def = as.numeric(c(27.5, 28, 27, 26, 24.5, 25, 28,\n",
    "                                                   26, 27, 29, 27.5, 27.5, 28, 25,\n",
    "                                                   26.5, 26.5, 29.5, 32, 29, 28, 28,\n",
    "                                                   28.5, 28, 25, 28.5, 28.5, 30,\n",
    "                                                   32.5, 29, 26.5, 30.5, 27))),\n",
    "                       .Names = c(\"cut\",\"tool\",\"bevel\",\"mil_del\"),\n",
    "                       class = \"data.frame\",\n",
    "                       row.names = c(NA, -32L))"
   ]
  },
  {
   "cell_type": "markdown",
   "metadata": {},
   "source": [
    "<a id=\"cut_table_anova\"></a>\n",
    "###### ANOVA for Power Requirement Data"
   ]
  },
  {
   "cell_type": "code",
   "execution_count": 5,
   "metadata": {},
   "outputs": [
    {
     "data": {
      "text/html": [
       "<table>\n",
       "<caption>A data.frame: 8 × 7</caption>\n",
       "<thead>\n",
       "\t<tr><th></th><th scope=col>Df</th><th scope=col>SS</th><th scope=col>MS</th><th scope=col>Fvalue</th><th scope=col>Pvalue</th><th scope=col>Sig</th><th scope=col>EMS</th></tr>\n",
       "\t<tr><th></th><th scope=col>&lt;dbl&gt;</th><th scope=col>&lt;dbl&gt;</th><th scope=col>&lt;dbl&gt;</th><th scope=col>&lt;fct&gt;</th><th scope=col>&lt;fct&gt;</th><th scope=col>&lt;fct&gt;</th><th scope=col>&lt;fct&gt;</th></tr>\n",
       "</thead>\n",
       "<tbody>\n",
       "\t<tr><th scope=row>tool</th><td> 1</td><td> 2.8203125</td><td> 2.8203125</td><td>1.2667 </td><td>0.2715</td><td>  </td><td>Error+16tool         </td></tr>\n",
       "\t<tr><th scope=row>bevel</th><td> 1</td><td>20.3203125</td><td>20.3203125</td><td>9.1263 </td><td>0.0059</td><td>**</td><td>Error+16bevel        </td></tr>\n",
       "\t<tr><th scope=row>tool:bevel</th><td> 1</td><td> 0.1953125</td><td> 0.1953125</td><td>0.0877 </td><td>0.7696</td><td>  </td><td>Error+8tool:bevel    </td></tr>\n",
       "\t<tr><th scope=row>cut</th><td> 1</td><td>31.0078125</td><td>31.0078125</td><td>13.9263</td><td>0.001 </td><td>**</td><td>Error+16cut          </td></tr>\n",
       "\t<tr><th scope=row>tool:cut</th><td> 1</td><td> 0.0078125</td><td> 0.0078125</td><td>0.0035 </td><td>0.9533</td><td>  </td><td>Error+8tool:cut      </td></tr>\n",
       "\t<tr><th scope=row>bevel:cut</th><td> 1</td><td> 0.9453125</td><td> 0.9453125</td><td>0.4246 </td><td>0.5209</td><td>  </td><td>Error+8bevel:cut     </td></tr>\n",
       "\t<tr><th scope=row>tool:bevel:cut</th><td> 1</td><td> 0.1953125</td><td> 0.1953125</td><td>0.0877 </td><td>0.7696</td><td>  </td><td>Error+4tool:bevel:cut</td></tr>\n",
       "\t<tr><th scope=row>Residuals</th><td>24</td><td>53.4375000</td><td> 2.2265625</td><td>       </td><td>      </td><td>  </td><td>Error                </td></tr>\n",
       "</tbody>\n",
       "</table>\n"
      ],
      "text/latex": [
       "A data.frame: 8 × 7\n",
       "\\begin{tabular}{r|lllllll}\n",
       "  & Df & SS & MS & Fvalue & Pvalue & Sig & EMS\\\\\n",
       "  & <dbl> & <dbl> & <dbl> & <fct> & <fct> & <fct> & <fct>\\\\\n",
       "\\hline\n",
       "\ttool &  1 &  2.8203125 &  2.8203125 & 1.2667  & 0.2715 &    & Error+16tool         \\\\\n",
       "\tbevel &  1 & 20.3203125 & 20.3203125 & 9.1263  & 0.0059 & ** & Error+16bevel        \\\\\n",
       "\ttool:bevel &  1 &  0.1953125 &  0.1953125 & 0.0877  & 0.7696 &    & Error+8tool:bevel    \\\\\n",
       "\tcut &  1 & 31.0078125 & 31.0078125 & 13.9263 & 0.001  & ** & Error+16cut          \\\\\n",
       "\ttool:cut &  1 &  0.0078125 &  0.0078125 & 0.0035  & 0.9533 &    & Error+8tool:cut      \\\\\n",
       "\tbevel:cut &  1 &  0.9453125 &  0.9453125 & 0.4246  & 0.5209 &    & Error+8bevel:cut     \\\\\n",
       "\ttool:bevel:cut &  1 &  0.1953125 &  0.1953125 & 0.0877  & 0.7696 &    & Error+4tool:bevel:cut\\\\\n",
       "\tResiduals & 24 & 53.4375000 &  2.2265625 &         &        &    & Error                \\\\\n",
       "\\end{tabular}\n"
      ],
      "text/markdown": [
       "\n",
       "A data.frame: 8 × 7\n",
       "\n",
       "| <!--/--> | Df &lt;dbl&gt; | SS &lt;dbl&gt; | MS &lt;dbl&gt; | Fvalue &lt;fct&gt; | Pvalue &lt;fct&gt; | Sig &lt;fct&gt; | EMS &lt;fct&gt; |\n",
       "|---|---|---|---|---|---|---|---|\n",
       "| tool |  1 |  2.8203125 |  2.8203125 | 1.2667  | 0.2715 | <!----> | Error+16tool          |\n",
       "| bevel |  1 | 20.3203125 | 20.3203125 | 9.1263  | 0.0059 | ** | Error+16bevel         |\n",
       "| tool:bevel |  1 |  0.1953125 |  0.1953125 | 0.0877  | 0.7696 | <!----> | Error+8tool:bevel     |\n",
       "| cut |  1 | 31.0078125 | 31.0078125 | 13.9263 | 0.001  | ** | Error+16cut           |\n",
       "| tool:cut |  1 |  0.0078125 |  0.0078125 | 0.0035  | 0.9533 | <!----> | Error+8tool:cut       |\n",
       "| bevel:cut |  1 |  0.9453125 |  0.9453125 | 0.4246  | 0.5209 | <!----> | Error+8bevel:cut      |\n",
       "| tool:bevel:cut |  1 |  0.1953125 |  0.1953125 | 0.0877  | 0.7696 | <!----> | Error+4tool:bevel:cut |\n",
       "| Residuals | 24 | 53.4375000 |  2.2265625 | <!----> | <!----> | <!----> | Error                 |\n",
       "\n"
      ],
      "text/plain": [
       "               Df SS         MS         Fvalue  Pvalue Sig\n",
       "tool            1  2.8203125  2.8203125 1.2667  0.2715    \n",
       "bevel           1 20.3203125 20.3203125 9.1263  0.0059 ** \n",
       "tool:bevel      1  0.1953125  0.1953125 0.0877  0.7696    \n",
       "cut             1 31.0078125 31.0078125 13.9263 0.001  ** \n",
       "tool:cut        1  0.0078125  0.0078125 0.0035  0.9533    \n",
       "bevel:cut       1  0.9453125  0.9453125 0.4246  0.5209    \n",
       "tool:bevel:cut  1  0.1953125  0.1953125 0.0877  0.7696    \n",
       "Residuals      24 53.4375000  2.2265625                   \n",
       "               EMS                  \n",
       "tool           Error+16tool         \n",
       "bevel          Error+16bevel        \n",
       "tool:bevel     Error+8tool:bevel    \n",
       "cut            Error+16cut          \n",
       "tool:cut       Error+8tool:cut      \n",
       "bevel:cut      Error+8bevel:cut     \n",
       "tool:bevel:cut Error+4tool:bevel:cut\n",
       "Residuals      Error                "
      ]
     },
     "metadata": {},
     "output_type": "display_data"
    }
   ],
   "source": [
    "library(EMSaov) # Required library\n",
    "Anova_T <- EMSanova(mil_del~tool*bevel*cut,data=power_cut,\n",
    "                    type=c(\"F\",\"F\",\"F\"),nested=c(NA,NA,NA))\n",
    "Anova_T"
   ]
  },
  {
   "cell_type": "markdown",
   "metadata": {},
   "source": [
    "### Factor Interaction plot\n",
    "\n",
    "Below we also include an interaction plot between the levels of factor B (i.e. Bevel degrees of angle) and factor C (Type of cut); in order to achieve the visualization presented here you must first run the section in the Appendix - Special Theme to Aid Figure Visualization. Additionally, the function below as well of our data set of interest should be loaded in the working environment."
   ]
  },
  {
   "cell_type": "code",
   "execution_count": 26,
   "metadata": {},
   "outputs": [],
   "source": [
    "library(ggplot2,plyr)\n",
    "factor2_inter <- function(dataset,varname1,varname2,varname3,varlabel1,varlabel2,varlabel3){\n",
    "  #' The explanation of the fields are as follow\n",
    "  #'  chr   dataset   <- a data frame with the variables to be analyzed \n",
    "  #'  chr   varname1  <- is the name of the 1rs variable of interest as given by str(dataset), it has to be a factor \n",
    "  #'  chr   varname2  <- is the name of the 2nd variable of interest as given by str(dataset), it has to be a factor\n",
    "  #'  chr   varname3<- is the name of the target variable as given by str(dataset), it has to be numeric\n",
    "  #'  chr   varlabel1 <- is the name of the first factor to be displayed as the x axis in the figure\n",
    "  #'  chr   varlabel2 <- is the name of the second factor to be displayed as the as a side panel in the figure\n",
    "  #'  chr   varlabel3 <- is the name of the target variable to be displayed in the y axis in the figure\n",
    "  desc <- ddply(eval(parse(text = dataset)),eval(parse(text = as.character(paste0('.(',varname2,',',varname1,')')))),summarise,\n",
    "                w_mean = mean(eval(parse(text = varname3))),\n",
    "                w_ci = 1.96*sd(eval(parse(text = varname3)))/sqrt(length(eval(parse(text = varname3)))))\n",
    "  pd <- position_dodge(width = 0.2)\n",
    "  \n",
    "  (myfact2 <- ggplot(data=desc, aes(x = eval(parse(text = varname1)),\n",
    "                                                          y = w_mean,\n",
    "                                                          group = eval(parse(text = varname2)))) + \n",
    "      geom_line(aes(linetype = eval(parse(text = varname2))), position = pd) +\n",
    "      geom_errorbar(aes(ymin= w_mean - w_ci, ymax= w_mean + w_ci),\n",
    "                    width = .1,position = pd, linetype = 1) +\n",
    "      geom_point(size = 4, position = pd) +\n",
    "      guides(linetype = guide_legend(varlabel2)) +\n",
    "      labs(title = paste0(\"Interaction between the levels of 2 Factors on \",varlabel3),\n",
    "           x=varlabel1,y=paste0('Mean of ',varlabel3))\n",
    "  )\n",
    "  myfact2 + theme_Publication()+scale_fill_Publication()\n",
    "}"
   ]
  },
  {
   "cell_type": "markdown",
   "metadata": {},
   "source": [
    "Such that if we run the script below we get a figure about the interaction of the levels from both factors."
   ]
  },
  {
   "cell_type": "code",
   "execution_count": 27,
   "metadata": {},
   "outputs": [
    {
     "data": {
      "image/png": "[encoded data removed]",
      "text/plain": [
       "plot without title"
      ]
     },
     "metadata": {},
     "output_type": "display_data"
    }
   ],
   "source": [
    "dataset <- 'power_cut'\n",
    "varname1 <- 'bevel'\n",
    "varname2 <- 'cut'\n",
    "varname3 <- 'mil_del'\n",
    "varlabel1 <- 'Bevel Angle'\n",
    "varlabel2 <- 'Type of Cut'\n",
    "varlabel3 <- 'Power Requierment'\n",
    "factor2_inter(dataset,varname1,varname2,varname3,varlabel1,varlabel2,varlabel3)"
   ]
  },
  {
   "cell_type": "code",
   "execution_count": null,
   "metadata": {},
   "outputs": [],
   "source": []
  },
  {
   "cell_type": "markdown",
   "metadata": {},
   "source": [
    "## Randomization procedures\n",
    "\n",
    "The following section provides a set of function that aid to the generation of randomized sequences as well as the assessment of randomization procedures based on selected criteria. For more information consult the documentation of the package `randomizeR`.\n",
    "\n",
    "### Acelerated Biased Coin Design\n",
    "\n",
    "Represents the randomization procedure Accelerated Biased Coin Design"
   ]
  },
  {
   "cell_type": "code",
   "execution_count": 14,
   "metadata": {},
   "outputs": [
    {
     "data": {
      "text/plain": [
       "\n",
       "Object of class \"abcdPar\"\n",
       "\n",
       "design = ABCD(0) \n",
       "a = 0 \n",
       "N = 40 \n",
       "groups = A B \n"
      ]
     },
     "metadata": {},
     "output_type": "display_data"
    }
   ],
   "source": [
    "library(randomizeR)          # Randomization for clinical trials\n",
    "N <- 40                      # Integer for the total sample size of the trial\n",
    "a <- 0                       # nonnegative parameter indicating the balance of the experiment, a = 0 gives the complete randomization and becomes more deterministic as increases\n",
    "group  <-  LETTERS[1:2]      # character vector of labels for the different treatments, max 2\n",
    "abcdPar(N, a, groups = group)"
   ]
  },
  {
   "cell_type": "markdown",
   "metadata": {},
   "source": [
    "### Sampling algorithm for `abcd`\n",
    "\n",
    "Represents the randomization procedure Accelerated Biased Coin Design, providing a vector with the allocation sequence for a clinical trial."
   ]
  },
  {
   "cell_type": "code",
   "execution_count": 16,
   "metadata": {},
   "outputs": [
    {
     "data": {
      "text/html": [
       "<ol class=list-inline>\n",
       "\t<li>1</li>\n",
       "\t<li>1</li>\n",
       "\t<li>0</li>\n",
       "\t<li>1</li>\n",
       "\t<li>1</li>\n",
       "\t<li>0</li>\n",
       "\t<li>1</li>\n",
       "\t<li>1</li>\n",
       "\t<li>1</li>\n",
       "\t<li>0</li>\n",
       "\t<li>0</li>\n",
       "\t<li>1</li>\n",
       "\t<li>0</li>\n",
       "\t<li>1</li>\n",
       "\t<li>1</li>\n",
       "\t<li>0</li>\n",
       "\t<li>1</li>\n",
       "\t<li>1</li>\n",
       "\t<li>0</li>\n",
       "\t<li>1</li>\n",
       "\t<li>0</li>\n",
       "\t<li>0</li>\n",
       "\t<li>1</li>\n",
       "\t<li>0</li>\n",
       "\t<li>1</li>\n",
       "\t<li>1</li>\n",
       "\t<li>0</li>\n",
       "\t<li>1</li>\n",
       "\t<li>0</li>\n",
       "\t<li>1</li>\n",
       "\t<li>1</li>\n",
       "\t<li>0</li>\n",
       "\t<li>1</li>\n",
       "\t<li>1</li>\n",
       "\t<li>1</li>\n",
       "\t<li>1</li>\n",
       "\t<li>1</li>\n",
       "\t<li>0</li>\n",
       "\t<li>0</li>\n",
       "\t<li>1</li>\n",
       "</ol>\n"
      ],
      "text/latex": [
       "\\begin{enumerate*}\n",
       "\\item 1\n",
       "\\item 1\n",
       "\\item 0\n",
       "\\item 1\n",
       "\\item 1\n",
       "\\item 0\n",
       "\\item 1\n",
       "\\item 1\n",
       "\\item 1\n",
       "\\item 0\n",
       "\\item 0\n",
       "\\item 1\n",
       "\\item 0\n",
       "\\item 1\n",
       "\\item 1\n",
       "\\item 0\n",
       "\\item 1\n",
       "\\item 1\n",
       "\\item 0\n",
       "\\item 1\n",
       "\\item 0\n",
       "\\item 0\n",
       "\\item 1\n",
       "\\item 0\n",
       "\\item 1\n",
       "\\item 1\n",
       "\\item 0\n",
       "\\item 1\n",
       "\\item 0\n",
       "\\item 1\n",
       "\\item 1\n",
       "\\item 0\n",
       "\\item 1\n",
       "\\item 1\n",
       "\\item 1\n",
       "\\item 1\n",
       "\\item 1\n",
       "\\item 0\n",
       "\\item 0\n",
       "\\item 1\n",
       "\\end{enumerate*}\n"
      ],
      "text/markdown": [
       "1. 1\n",
       "2. 1\n",
       "3. 0\n",
       "4. 1\n",
       "5. 1\n",
       "6. 0\n",
       "7. 1\n",
       "8. 1\n",
       "9. 1\n",
       "10. 0\n",
       "11. 0\n",
       "12. 1\n",
       "13. 0\n",
       "14. 1\n",
       "15. 1\n",
       "16. 0\n",
       "17. 1\n",
       "18. 1\n",
       "19. 0\n",
       "20. 1\n",
       "21. 0\n",
       "22. 0\n",
       "23. 1\n",
       "24. 0\n",
       "25. 1\n",
       "26. 1\n",
       "27. 0\n",
       "28. 1\n",
       "29. 0\n",
       "30. 1\n",
       "31. 1\n",
       "32. 0\n",
       "33. 1\n",
       "34. 1\n",
       "35. 1\n",
       "36. 1\n",
       "37. 1\n",
       "38. 0\n",
       "39. 0\n",
       "40. 1\n",
       "\n",
       "\n"
      ],
      "text/plain": [
       " [1] 1 1 0 1 1 0 1 1 1 0 0 1 0 1 1 0 1 1 0 1 0 0 1 0 1 1 0 1 0 1 1 0 1 1 1 1 1 0\n",
       "[39] 0 1"
      ]
     },
     "metadata": {},
     "output_type": "display_data"
    }
   ],
   "source": [
    "abcdRand(N,a,K=2)  # K number of treatment groups (e.g. K = 2 if we compute one experimental against one control treatment)"
   ]
  },
  {
   "cell_type": "markdown",
   "metadata": {},
   "source": [
    "So in case we have a list of subjects we can randomly assign them to either one of two groups as"
   ]
  },
  {
   "cell_type": "code",
   "execution_count": 33,
   "metadata": {},
   "outputs": [
    {
     "data": {
      "text/html": [
       "<table>\n",
       "<caption>A data.frame: 4 × 3</caption>\n",
       "<thead>\n",
       "\t<tr><th scope=col>label</th><th scope=col>name</th><th scope=col>condition</th></tr>\n",
       "\t<tr><th scope=col>&lt;int&gt;</th><th scope=col>&lt;fct&gt;</th><th scope=col>&lt;fct&gt;</th></tr>\n",
       "</thead>\n",
       "<tbody>\n",
       "\t<tr><td>1</td><td>Jorge </td><td>Experimental</td></tr>\n",
       "\t<tr><td>2</td><td>Bertha</td><td>Control     </td></tr>\n",
       "\t<tr><td>3</td><td>林    </td><td>Control     </td></tr>\n",
       "\t<tr><td>4</td><td>Janeth</td><td>Experimental</td></tr>\n",
       "</tbody>\n",
       "</table>\n"
      ],
      "text/latex": [
       "A data.frame: 4 × 3\n",
       "\\begin{tabular}{r|lll}\n",
       " label & name & condition\\\\\n",
       " <int> & <fct> & <fct>\\\\\n",
       "\\hline\n",
       "\t 1 & Jorge  & Experimental\\\\\n",
       "\t 2 & Bertha & Control     \\\\\n",
       "\t 3 & 林     & Control     \\\\\n",
       "\t 4 & Janeth & Experimental\\\\\n",
       "\\end{tabular}\n"
      ],
      "text/markdown": [
       "\n",
       "A data.frame: 4 × 3\n",
       "\n",
       "| label &lt;int&gt; | name &lt;fct&gt; | condition &lt;fct&gt; |\n",
       "|---|---|---|\n",
       "| 1 | Jorge  | Experimental |\n",
       "| 2 | Bertha | Control      |\n",
       "| 3 | 林     | Control      |\n",
       "| 4 | Janeth | Experimental |\n",
       "\n"
      ],
      "text/plain": [
       "  label name   condition   \n",
       "1 1     Jorge  Experimental\n",
       "2 2     Bertha Control     \n",
       "3 3     林     Control     \n",
       "4 4     Janeth Experimental"
      ]
     },
     "metadata": {},
     "output_type": "display_data"
    }
   ],
   "source": [
    "subjects <- as.character(c('Jorge','Bertha','林','Janeth','Leopardo','Libardo')) # Put as many subject's names\n",
    "dataran  <- data.frame(list(a = 1:length(subjects),\n",
    "                            b = subjects,\n",
    "                            c = as.factor(abcdRand(length(subjects),0,K=2))))\n",
    "colnames(dataran) <- c('label','name','condition')\n",
    "dataran$condition <- factor(dataran$condition, labels = c(\"Control\",\"Experimental\")) # labels of the two groups\n",
    "head(dataran,4)"
   ]
  },
  {
   "cell_type": "markdown",
   "metadata": {},
   "source": [
    "<a id=\"rando_factofunct\"></a>\n",
    "### Randomization in a Factorial design\n",
    "\n",
    "Below there are some insights about how to perform a randomization on the order of data collection in a factorial design as displayed in [Randomization in a Factorial Experiment](#rando_factotable). The function below `factor2_des` returns a data frame with the combination of the levels of two factors and randomly assigns the order of data collection as to ensure robustness in the design."
   ]
  },
  {
   "cell_type": "code",
   "execution_count": 37,
   "metadata": {},
   "outputs": [],
   "source": [
    "library(plyr)\n",
    "factor2_ran <- function(lev_fac01,lev_fac02,num_obs){\n",
    "  # num lev_fac01 = Number of levels of factor A\n",
    "  # num lev_fac02 = Number of levels of factor B\n",
    "  # num num_obs   = number of observations per each combination of levels of factors A and B\n",
    "  factor1 <-  LETTERS[seq(1:lev_fac01)]\n",
    "  factor2 <-  letters[seq(1:lev_fac02)]\n",
    "  k       <- expand.grid(factor1,factor2)\n",
    "  for (i in 1:nrow(k)) {\n",
    "    my_var  <- c(rep(c(paste0('k[',i,',]')),each = num_obs))\n",
    "    if(i == 1){\n",
    "      new_mat <- data.frame(matrix(data=t(my_var),nrow=num_obs,ncol=1));colnames(new_mat) <- c('guide')\n",
    "    }else if(i >= 2){\n",
    "      oth_mat <- data.frame(matrix(data=t(my_var),nrow=num_obs,ncol=1));colnames(oth_mat) <- c('guide')\n",
    "      new_mat <- rbind(new_mat,oth_mat)\n",
    "    }\n",
    "  }\n",
    "  \n",
    "  mymat <- data.frame(matrix(data = NA,nrow=nrow(new_mat),ncol=2))\n",
    "  for(i in 1:nrow(mymat)){\n",
    "    mymat[i,] <- eval(parse(text = as.character(new_mat[i,])))\n",
    "  }\n",
    "  mymat$X1 <- factor(mymat$X1, labels = c(LETTERS[seq(1:lev_fac01)]))\n",
    "  mymat$X2 <- factor(mymat$X2, labels = c(letters[seq(1:lev_fac02)]))\n",
    "  x <- 1:nrow(mymat)\n",
    "  mymat$order <- sample(x)\n",
    "  colnames(mymat)[1:2] <- c('factor1','factor2')\n",
    "  mymat <- arrange(mymat,order)\n",
    "  return(mymat)\n",
    "}"
   ]
  },
  {
   "cell_type": "markdown",
   "metadata": {},
   "source": [
    "Such that if we run the following lines we get the full combination of the levels from factor 1 and factor 3, each with three observations, and the order of data acquisition represented in the last column"
   ]
  },
  {
   "cell_type": "code",
   "execution_count": 39,
   "metadata": {},
   "outputs": [
    {
     "data": {
      "text/html": [
       "<table>\n",
       "<caption>A data.frame: 18 × 3</caption>\n",
       "<thead>\n",
       "\t<tr><th scope=col>factor1</th><th scope=col>factor2</th><th scope=col>order</th></tr>\n",
       "\t<tr><th scope=col>&lt;fct&gt;</th><th scope=col>&lt;fct&gt;</th><th scope=col>&lt;int&gt;</th></tr>\n",
       "</thead>\n",
       "<tbody>\n",
       "\t<tr><td>A</td><td>b</td><td> 1</td></tr>\n",
       "\t<tr><td>A</td><td>a</td><td> 2</td></tr>\n",
       "\t<tr><td>A</td><td>b</td><td> 3</td></tr>\n",
       "\t<tr><td>A</td><td>a</td><td> 4</td></tr>\n",
       "\t<tr><td>B</td><td>b</td><td> 5</td></tr>\n",
       "\t<tr><td>A</td><td>a</td><td> 6</td></tr>\n",
       "\t<tr><td>B</td><td>b</td><td> 7</td></tr>\n",
       "\t<tr><td>C</td><td>a</td><td> 8</td></tr>\n",
       "\t<tr><td>C</td><td>a</td><td> 9</td></tr>\n",
       "\t<tr><td>C</td><td>b</td><td>10</td></tr>\n",
       "\t<tr><td>B</td><td>a</td><td>11</td></tr>\n",
       "\t<tr><td>C</td><td>b</td><td>12</td></tr>\n",
       "\t<tr><td>B</td><td>a</td><td>13</td></tr>\n",
       "\t<tr><td>B</td><td>b</td><td>14</td></tr>\n",
       "\t<tr><td>C</td><td>b</td><td>15</td></tr>\n",
       "\t<tr><td>A</td><td>b</td><td>16</td></tr>\n",
       "\t<tr><td>C</td><td>a</td><td>17</td></tr>\n",
       "\t<tr><td>B</td><td>a</td><td>18</td></tr>\n",
       "</tbody>\n",
       "</table>\n"
      ],
      "text/latex": [
       "A data.frame: 18 × 3\n",
       "\\begin{tabular}{r|lll}\n",
       " factor1 & factor2 & order\\\\\n",
       " <fct> & <fct> & <int>\\\\\n",
       "\\hline\n",
       "\t A & b &  1\\\\\n",
       "\t A & a &  2\\\\\n",
       "\t A & b &  3\\\\\n",
       "\t A & a &  4\\\\\n",
       "\t B & b &  5\\\\\n",
       "\t A & a &  6\\\\\n",
       "\t B & b &  7\\\\\n",
       "\t C & a &  8\\\\\n",
       "\t C & a &  9\\\\\n",
       "\t C & b & 10\\\\\n",
       "\t B & a & 11\\\\\n",
       "\t C & b & 12\\\\\n",
       "\t B & a & 13\\\\\n",
       "\t B & b & 14\\\\\n",
       "\t C & b & 15\\\\\n",
       "\t A & b & 16\\\\\n",
       "\t C & a & 17\\\\\n",
       "\t B & a & 18\\\\\n",
       "\\end{tabular}\n"
      ],
      "text/markdown": [
       "\n",
       "A data.frame: 18 × 3\n",
       "\n",
       "| factor1 &lt;fct&gt; | factor2 &lt;fct&gt; | order &lt;int&gt; |\n",
       "|---|---|---|\n",
       "| A | b |  1 |\n",
       "| A | a |  2 |\n",
       "| A | b |  3 |\n",
       "| A | a |  4 |\n",
       "| B | b |  5 |\n",
       "| A | a |  6 |\n",
       "| B | b |  7 |\n",
       "| C | a |  8 |\n",
       "| C | a |  9 |\n",
       "| C | b | 10 |\n",
       "| B | a | 11 |\n",
       "| C | b | 12 |\n",
       "| B | a | 13 |\n",
       "| B | b | 14 |\n",
       "| C | b | 15 |\n",
       "| A | b | 16 |\n",
       "| C | a | 17 |\n",
       "| B | a | 18 |\n",
       "\n"
      ],
      "text/plain": [
       "   factor1 factor2 order\n",
       "1  A       b        1   \n",
       "2  A       a        2   \n",
       "3  A       b        3   \n",
       "4  A       a        4   \n",
       "5  B       b        5   \n",
       "6  A       a        6   \n",
       "7  B       b        7   \n",
       "8  C       a        8   \n",
       "9  C       a        9   \n",
       "10 C       b       10   \n",
       "11 B       a       11   \n",
       "12 C       b       12   \n",
       "13 B       a       13   \n",
       "14 B       b       14   \n",
       "15 C       b       15   \n",
       "16 A       b       16   \n",
       "17 C       a       17   \n",
       "18 B       a       18   "
      ]
     },
     "metadata": {},
     "output_type": "display_data"
    }
   ],
   "source": [
    "lev_fac01 <- 3 # Number of levels of factor A\n",
    "lev_fac02 <- 2 # Number of levels of factor B\n",
    "num_obs   <- 3 # number of observations per each combination of levels of factors A and B\n",
    "factor2_ran(lev_fac01,lev_fac02,num_obs)"
   ]
  },
  {
   "cell_type": "markdown",
   "metadata": {},
   "source": [
    "## Summary\n",
    "\n",
    "1. Experiment\n",
    "\n",
    "    1.1 Statement of problem\n",
    "    \n",
    "    1.2. Choice of response (dependent) variable\n",
    "    \n",
    "    1.3. Selection of factors (independent variables) to be varied\n",
    "    \n",
    "    1.4. Choice of levels of these factors\n",
    "    \n",
    "        1.4.1. Quantitative or Qualitative\n",
    "        \n",
    "        1.4.2. Fixed or random\n",
    "        \n",
    "2. Design\n",
    "\n",
    "    2.1. Number of observations to be taken\n",
    "    \n",
    "    2.2. Order of experimentation\n",
    "    \n",
    "    2.3. Method of randomization to be used\n",
    "    \n",
    "    2.4. Mathematical model to describe the experiment\n",
    "    \n",
    "    2.5. Hypotheses to be tested\n",
    "    \n",
    "    \n",
    "3. Analysis\n",
    "\n",
    "    3.1. Data collection and processing\n",
    "    \n",
    "    3.2. Computation of test statistics and preparation of graphics\n",
    "    \n",
    "    3.2. Interpretation of results for the experimenter\n",
    "    "
   ]
  },
  {
   "cell_type": "markdown",
   "metadata": {},
   "source": [
    "## Problems"
   ]
  },
  {
   "cell_type": "code",
   "execution_count": null,
   "metadata": {},
   "outputs": [],
   "source": []
  },
  {
   "cell_type": "markdown",
   "metadata": {},
   "source": [
    "# Statistical Inference\n",
    "\n",
    "## Introduction\n",
    "\n",
    "In any experiment, the experimenter is attempting to draw inferences or make a decision about some hypothesis concerning a situation being studied.\n",
    "\n",
    "### What is Statistics?\n",
    "\n",
    "_Statistics_ may be defined as a tool for decision making in the light of uncertainty (Cases in which the exact outcome is not completely predictable). When the observed results of an experiment could have occurred only 5 times in 100 by chance alone, most experimenters consider that this is a rare event and will state that the results are statistically significant at the $5\\%$ significance level. In such cases the hypothesis being tested is usually rejected as untenable. When statistical methods are used in experimentation, one can assess the magnitude of the risks taken in making a particular decision \\cite{hicks1999fundamental}.\n",
    "\n",
    "### Statistical Inference\n",
    "\n",
    "Inferring something about a population from a sample drawn from that population is called *statistical inference*. A *population* is defined as all possible values of a response variable $Y$ obtained from all experimental units in the universe under consideration. Characteristics of the population associated with this random variable are called _parameters_. Statistical inference is divided in two parts:\n",
    "\n",
    "1. Estimation of a parameter\n",
    "2. Testing a hypothesis about a parameter.\n",
    "\n",
    "### The Mean and Variance of a Random Variable\n",
    "\n",
    "The *mean* or *expected value* of the random variable $Y$ is designated as $E[Y]=\\mu$. if the probability function defining the random variable is known,\n",
    "\n",
    "$$\n",
    "E[Y]=\\sum_iy_ip(y_i)\n",
    "$$\n",
    "\n",
    "when $Y$ is a discrete random variable with discrete probability function $p(y_i)=P(Y=y_i)$, and\n",
    "\n",
    "$$\n",
    "E[Y]=\\int_{-\\infty}^{\\infty}yf(y)dy\n",
    "$$\n",
    "\n",
    "when $Y$ is a continuous random variable with probability density function $f(y)$.\n",
    "The long-range average of squared deviations from the mean of a random variable is called the *variance* of that variable. Designating the variance of $Y$ by $Var(Y)=\\sigma_{Y}^2$,\n",
    "\n",
    "$$\n",
    "Var(Y)=E[(Y-\\mu_Y)^2]\n",
    "$$\n",
    "\n",
    "In the discrete case,\n",
    "\n",
    "$$\n",
    "Var(Y)=\\sum_i(y_i-\\mu_Y)^2p(y_i)\n",
    "$$\n",
    "\n",
    "and\n",
    "\n",
    "$$\n",
    "Var(Y)=\\int_{-\\infty}^{\\infty}(y-\\mu_Y)^2f(y)dy\n",
    "$$\n",
    "\n",
    "In the continuous case. The positive square root of the variance of $Y$ is called the *standard deviation* of $Y$, denoted $SD(Y)=\\sigma_{Y}$.\n",
    "\n",
    "### Properties of Expected Values\n",
    "\n",
    "Basic theorems\n",
    "\n",
    "1. $E[k]=k$ for $k$ any constant\n",
    "\n",
    "2. $E[kY]=kE[Y]$\n",
    "\n",
    "3. $E[Y_1+Y_2]=E[Y_1]+E[Y_2]$\n",
    "\n",
    "4. $Var(Y)=E[(Y-\\mu_Y)^2]=E[Y^2]-\\mu_Y^2$\n",
    "\n",
    "\n",
    "### Sample statistics\n",
    "\n",
    "Most statistical theory is based on the assumption that samples used are random samples, this is a randomly selected collection of units is called a random sample of $n$ experimental units. The collection of $n$ values of the response variable associated with the random sample of experimental units is called a *random sample of size n* from the corresponding population. Quantities computed from those sample values are called *sample statistics*. This include the *sample mean*\n",
    "\n",
    "$$\n",
    "\\bar{Y}=\\frac{\\sum_{i=1}^nY_i}{n}\\label{eq:6}\\tag{6}\n",
    "$$\n",
    "\n",
    "and the sample variance\n",
    "\n",
    "$$\n",
    "S^2=\\frac{\\sum_{i=1}^n(Y_i-\\bar{Y})^2}{n-1}\\label{eq:7}\\tag{7}\n",
    "$$\n",
    "\n",
    "Before sampling occurs $Y_1,...,Y_n$ are random variables, so $\\bar{Y}$ and $S^2$ are random variables. Once sampling has occurred and the values $y_1,...,y_n$ are obtained,\n",
    "\n",
    "$$\n",
    "\\bar{y}=\\frac{\\sum_{i=1}^ny_i}{n}\\label{eq:8}\\tag{8}\n",
    "$$\n",
    "\n",
    "And\n",
    "\n",
    "$$\n",
    "s^2=\\frac{\\sum_{i=1}^n(y_i-\\bar{y})^2}{n-1}\\label{eq:9}\\tag{9}\n",
    "$$\n",
    "\n",
    "Are the observed values of $\\bar{Y}$ and $S^2$, respectively. The positive square root of $S^2$, denoted $S$, is called the *sample standard deviation* and its observed value is denoted by $s$.\n",
    "\n",
    "## Estimation\n",
    "\n",
    "The objective of statistical estimation is to use a statistic for a sample drawn form a population to estimate a parameter of that population. Estimates of two types are usually needed, *point estimates* and *interval estimates*.\n",
    "\n",
    "### Point Estimators and Point Estimates\n",
    "\n",
    "A random variable such as $\\bar{Y}$ or $S^2$, when used to obtain estimates of a population parameter is called a *point estimator* of that parameter, and an observed value of such statistic is called a *point estimate* of the parameter. Since they are random variables, the commonly used point estimators have probability distributions with means and variances. Statisticians usually use point estimators that are unbiased statistics.\n",
    "\n",
    "### Unbiased Statistics\n",
    "\n",
    "A point estimator $W$ of a population parameter $\\theta$ is an *unbiased statistic* if $E[W] = \\theta$. That is, the expected or average value of $W$ taken over an infinite number of similar samples equals the population parameter being estimated. Since $E[kY] = kE[Y]$ and $E[Y_1+Y_2]=E[Y_1]+E[Y_2]$ can be used to prove that\n",
    "\n",
    "$$\n",
    "E[\\bar{Y}]=E[Y]=\\mu_Y  \\textit{(or simply, $\\mu$)}\n",
    "$$\n",
    "\n",
    "$\\bar{Y}$ is an unbiased estimator of $\\mu$ and $\\bar{y}$ is an unbiased estimate. Likewise,\n",
    "\n",
    "$$\n",
    "E[S^2]=Var(Y)=\\sigma_Y^2 \\textit{(or simply, $\\sigma^2$)}\n",
    "$$\n",
    "\n",
    "so $S^2$ is an unbiased estimator of $\\sigma^2$ and $s^2$ is an unbiased estimate. On the other hand, the sample standard deviation $S$ is not an unbiased estimator of $\\sigma$, since $E[S]\\neq \\sigma$. For a normal population, $E[S] = c_4\\sigma$ for $c_4$ a positive constant based on the sample size.\n",
    "\n",
    "### Sum of Squares and Mean Squares\n",
    "\n",
    "For $Y_1,...,Y_n$ a random sample from the distribution of a random variable $Y$ with mean $\\mu$ and standard deviation $\\sigma$, the *sum of squares* is the statistic.\n",
    "\n",
    "$$\n",
    "SS_Y=\\sum_{i=1}^n(Y_i-\\bar{Y})^2 \\label{eq:10}\\tag{10}\n",
    "$$\n",
    "\n",
    "It is the sum of squares of the deviations of the sample values from the mean of the sample. For $y_1,...,y_n$ the observed sample values, the calculated constant\n",
    "\n",
    "$$\n",
    "\\sum_{i=1}^n(y_i-\\bar{y})^2 \\label{eq:11}\\tag{11}\n",
    "$$\n",
    "\n",
    "is also denoted $SS_Y$. Since $SS_Y=(n-1)S_Y^2$, $E[(n-1)S_Y^2]=(n-1)E[S_Y^2]$, and $E[S_Y^2]=\\sigma_Y^2$, we find that\n",
    "\n",
    "$$\n",
    "E[SS_Y]=(n-1)\\sigma_Y^2 \\label{eq:12}\\tag{12}\n",
    "$$\n",
    "\n",
    "where $n-1$ represents the degrees of freedom $(df)$ associated with $SS_Y$.\n",
    "Suppose the sum of squares $SS_W$ is associated with a random variable $W$. Division of $SS_W$ by its degrees of freedom indicates an averaging of the squared deviations from the mean. The resulting statistic, denoted $MS_W$ is called a *mean square*. In simple cases like $SS_Y$ considered in this section, $df=n-1$, $MS_Y=SS_Y/(n-1)=S_Y^2$, and $E[MS_Y]=Var(Y)$.\n",
    "\n",
    "### Interval Estimators and Interval Estimates\n",
    "\n",
    "A $100(1-\\alpha)\\%$ *confidence interval estimator* of a population parameter is a random interval that is asserted to include the parameter in question with probability $1-\\alpha$ for some $0 < \\alpha < 1$. The interval with end points determined from observed sample values is called a $100(1-\\alpha)\\%$ *confidence interval (estimate)* for that parameter. For example, a 95\\% confidence interval for the mean $\\mu$ of a normal distribution is given by\n",
    "\n",
    "$$\n",
    "\\bar{y} \\pm 1.96\\frac{\\sigma}{\\sqrt{n}} \\label{eq:13}\\tag{13}\n",
    "$$\n",
    "\n",
    "Where $P(Z\\leq-1.96)=0.025$, $P(Z\\geq1.96)=0.025$, $n$ is the sample size, and $\\sigma$ is the population standard deviation. In general, if $Y$ has a normal distribution with mean $\\mu$ and standard deviation $\\sigma$, with $\\bar{y}$ the mean of the observed values $y_1,...,y_n$ for a random sample from the distribution of $Y$ and $P(Z\\leq Z_{1-\\alpha/2})=1-\\alpha/2$ with $Z_{1-\\alpha/2}$ obtained from Statistical Table A, the interval with end points\n",
    "\n",
    "$$\n",
    "\\bar{y}\\pm Z_{1-\\alpha/2}\\frac{\\sigma}{\\sqrt{n}} \\label{eq:14}\\tag{14}\n",
    "$$\n",
    "\n",
    "is a $100(1-\\alpha)\\%$ confidence interval for $\\mu$. If $\\sigma$ unknown and the population is normal, Student’s $t$ distribution (Statistical Table B) is used, and a $100(1-\\alpha)\\%$ confidence interval is given by\n",
    "\n",
    "$$\n",
    "\\bar{y} \\pm t_{1-\\alpha/2}\\frac{s}{\\sqrt{n}} \\label{eq:15}\\tag{15}\n",
    "$$\n",
    "\n",
    "where $t$ has $n-1$ degrees of freedom, $P(t\\leq t_{1-\\alpha/2})=1-\\alpha/2$, and $s$ is the observed sample standard deviation. When $Y$ is continuous, non-normal and $n$ is at least 30, either Equation [14](#mjx-eqn-eq:14) or [15](#mjx-eqn-eq:15) can be used to obtain an approximate $100(1-\\alpha)\\%$ confidence interval for $\\mu$.\n",
    "\n",
    "### Estimating the confidence Interval from a normal distribution in `R`\n",
    "\n",
    "As to show one example let's assume that the sample mean of a variable of interest _myvariable_ is 7, the standard deviation is 2 and the sample size is 100, in the example below the function will use a 95% confidence level and it will return the confidence interval assuming a normal distribution."
   ]
  },
  {
   "cell_type": "code",
   "execution_count": 33,
   "metadata": {},
   "outputs": [
    {
     "name": "stdout",
     "output_type": "stream",
     "text": [
      "Assuming that myvariable is normally distributed and the samples are independent\n",
      "and with a level of certainty of 95% the true mean might be within the interval between 6.78 and 7.57"
     ]
    }
   ],
   "source": [
    "confi_fun <- function(dataset,varname){\n",
    "  error <- qnorm(0.975)*sd(eval(parse(text = paste0(dataset,'$',varname))))/sqrt(length(eval(parse(text = paste0(dataset,'$',varname)))))\n",
    "  left  <- round(mean(eval(parse(text = paste0(dataset,'$',varname))))-error,2)\n",
    "  right <- round(mean(eval(parse(text = paste0(dataset,'$',varname))))+error,2)\n",
    "  cat(paste0('Assuming that ',as.character(varname),' is normally distributed and the samples are independent\\n',\n",
    "             'and with a level of certainty of 95% the true mean might be within the interval between ',left,' and ',right))\n",
    "}\n",
    "\n",
    "u <- 7   # estimated mean\n",
    "s <- 2   # estimated sd\n",
    "n <- 100 # sample size\n",
    "ex_data <- data.frame(rnorm(n,u,s));colnames(ex_data)[1] <- c('myvariable')\n",
    "dataset <- 'ex_data'\n",
    "varname <- 'myvariable'\n",
    "confi_fun(dataset,varname)"
   ]
  },
  {
   "cell_type": "markdown",
   "metadata": {},
   "source": [
    "### Estimating the confidence Interval from a $t$ distribution in `R`\n",
    "\n",
    "The only difference with the procedure explained before is that we will assume that we are working with a sample standard deviation rather than an exact standard deviation; for this example we will use the data previously created `ex_data`, and use a 95% confidence level to find the confidence interval"
   ]
  },
  {
   "cell_type": "code",
   "execution_count": 34,
   "metadata": {},
   "outputs": [
    {
     "name": "stdout",
     "output_type": "stream",
     "text": [
      "Assuming that myvariable is normally distributed and the samples are independent\n",
      "and with a level of certainty of 95% the true mean might be within the interval between 6.78 and 7.57"
     ]
    }
   ],
   "source": [
    "confi_fun_t <- function(dataset,varname){\n",
    "  error <- qt(0.975,df=length(eval(parse(text = paste0(dataset,'$',varname))))-1)*sd(eval(parse(text = paste0(dataset,'$',varname))))/sqrt(length(eval(parse(text = paste0(dataset,'$',varname)))))\n",
    "  left  <- round(mean(eval(parse(text = paste0(dataset,'$',varname))))-error,2)\n",
    "  right <- round(mean(eval(parse(text = paste0(dataset,'$',varname))))+error,2)\n",
    "  cat(paste0('Assuming that ',as.character(varname),' is normally distributed and the samples are independent\\n',\n",
    "             'and with a level of certainty of 95% the true mean might be within the interval between ',left,' and ',right))\n",
    "}\n",
    "\n",
    "dataset <- 'ex_data'\n",
    "varname <- 'myvariable'\n",
    "confi_fun_t(dataset,varname)"
   ]
  },
  {
   "cell_type": "code",
   "execution_count": null,
   "metadata": {},
   "outputs": [],
   "source": []
  },
  {
   "cell_type": "code",
   "execution_count": null,
   "metadata": {},
   "outputs": [],
   "source": []
  },
  {
   "cell_type": "markdown",
   "metadata": {},
   "source": [
    "## Test of Hypothesis\n",
    "\n",
    "A _statistical hypothesis_ is an assertion about the sampled population that is to be tested. It usually consist of assigning a value to one or more parameters of the population as in $H_0:\\mu = 19.5$. The basis for the assignment of this value to $\\mu$ usually rest on past experience. One also might hypothesize about the variance such that $H_0: \\sigma^2 = 40$. When such hypotheses are to be tested, the other parameters of the population are either assumed or estimated from data taken on a random sample of experimental units from the universe. Assumptions about the population and its parameters are taken as true an can be checked using graphical techniques such as histograms, box plots, and normal quantile plots.\n",
    "\n",
    "### What is a test of hypothesis?\n",
    "\n",
    "A _test of hypothesis_ is a rule by which one determines whether a hypothesis is rejected or not rejected. Such a rule is based on sample statistics, called _test statistics_ when they are used to test hypotheses.\n",
    "\n",
    "### Critical regions\n",
    "\n",
    "The _critical region_ of a test statistic consist of all values of the test statistic for which the decision is made to reject the null hypothesis $H_0$\n",
    "\n",
    "### Type I and Type II Errors\n",
    "\n",
    "Since hypothesis testing is based on observed sample statistics computed on $n$ observations, the decision is always subject to error. If a null hypothesis that is really true is rejected, a _type I error_ has been committed, and its magnitude is denoted as $\\alpha$. If the null hypothesis is not true but is not rejected because the sample provides insufficient evidence for such rejection, a _type II error_ has been made. The magnitude of that error is denoted $\\beta(\\mu)$.\n",
    "These $\\alpha$ and $\\beta$ error probabilities are often referred to as the risks of making incorrect decisions. One of the objectives in hypothesis testing is to design a test for which $\\alpha$ is small and $\\beta$ is known to be small for at least one value of the parameter at which the experimenter would like rejection to occur. In most such test procedures $\\alpha$ is set at some predetermined level.\n",
    "\n",
    "### The Classical Approach to Hypothesis Testing\n",
    "\n",
    "In many cases, the critical region of the test statistic, based on the accepted magnitude of $\\alpha$ is determined before sampling occurs. Then the value of the test statistic is calculated for the values of the obtained sample, and the null hypothesis is rejected when that value is in the critical region. A series of steps applicable to hypotheses and test statistics of most types can be taken when this classical approach is used. The following example illustrate the procedure.\n",
    "\n",
    "##### Classical Approach to Hypothesis Testing\n",
    "\n",
    "Suppose the average number of miles per gallon obtained by a certain carburetor is to be at least 19.5 mpg. Further suppose that a customer of the supplier of those carburetors has reason to believe that the average is less than 19.5 mpg. The following parallel steps illustrate one way for the customer to test the hypothesis.\n",
    "\n",
    "**Steps in Hypothesis Testing**\n",
    "\n",
    "1. Set up the hypothesis and its alternative - $H_0:\\mu = 19.5 mpg$ and $H_1:\\mu < 19.5 mpg$\n",
    "2. Set the significance level, $\\alpha$, of the test and the sample size $n$. - $\\alpha = 0.05, n = 25$\n",
    "3. Choose a test statistic to test $H_0$, noting any assumptions necessary when applying this statistic. - Test statistic: Standardized $\\bar{Y}$, $Z=(\\bar{Y}-\\mu)/(\\sigma/\\sqrt{n})$ (Assume $\\sigma$ is known to be $2 mpg$).\n",
    "4. Determine the sampling distribution of this test statistic when $H_0$ is true. - $Z=(\\bar{Y}-19.5)/(2/\\sqrt{25}) = 5(\\bar{Y}-19.5)/2$ has a standard normal distribution\n",
    "5. Set up a critical region on this test statistic where the probability of rejecting $H_0$ is $\\alpha$ when $H_0$ is true. - Since $P(Z \\leq -1.645) = 0.05$, the critical region is ${z|z \\leq -1.645}$. That is, reject $H_0$ is $z \\leq -1.645$.\n",
    "6. Choose a random sample of $n$ observation, compute the test statistic, and make a decision on $H_0$. - If $n = 25$ and $\\bar{y} = 18.9mpg$, $z=\\frac{5(18.9-19.5)}{2}=-1.5$. As $-1.5 > -1.645$, do not reject $H_0$.\n",
    "\n",
    "Without consideration of the magnitude of a type II error, $H_0$ should not be accepted as true. For that reason, the decision in step 6 is _do not reject_ $H_0$"
   ]
  },
  {
   "cell_type": "code",
   "execution_count": 38,
   "metadata": {},
   "outputs": [
    {
     "name": "stdout",
     "output_type": "stream",
     "text": [
      "As -1.5 is larger than the z score associated with a probability of 0.05 -1.645 we do not Reject H0"
     ]
    }
   ],
   "source": [
    "u   <- 19.5 # average of miles per gallon obtained by a certain carburator\n",
    "s   <- 2    # sd of miles per gallon\n",
    "n   <- 25   # number of samples/observations\n",
    "Eu  <- 18.9 # estimated average of miles per gallon \n",
    "pro <- qnorm(.05) # the qnorm function converts probabilities to z-scores \n",
    "z <- (sqrt(n)*(Eu-u))/s\n",
    "if(z <= pro){\n",
    " cat(paste0('As ',z,' is less than the z score associated with a probability of 0.05 ',round(pro,3),' we Reject H0'))\n",
    "}else if(z > pro){\n",
    " cat(paste0('As ',z,' is larger than the z score associated with a probability of 0.05 ',round(pro,3),' we do not Reject H0'))\n",
    "}"
   ]
  },
  {
   "cell_type": "markdown",
   "metadata": {},
   "source": [
    "In the example above a one-sided or one-tailed test was used. This is dictated by the alternative hypothesis, since we wish to reject $H_0$ only when low values of $\\bar{Y}$ are observed. When $Y$ is normally distributed, the null hypothesis is true, and $\\sigma = 2$; $\\bar{Y}$ is normally distributed with mean 19.5 and standard deviation $\\sigma/\\sqrt{n}=2/\\sqrt{25}=0.4$. The decision rule is expressing the experimenter's beliefs that a sample mean that is at least 1.645 standard deviations below 19.5 (i.e., < than $19.5 - 1.645(0.4) = 18.842 mpg$) deviates far enough from the hypothesized mean due to something other than chance. Since $P(\\bar{Y}\\leq 18.842)\\approx 0.05$, the significance level is $\\alpha = 0.05$. The size of the significance level is a choice of the experimenter and is often set, by tradition, to values such as $0.05$ or $0.01$\n",
    "\n",
    "In general, if $Y$ has a normal distribution with mean $\\mu$ and standard deviation $\\sigma$: $\\bar{y}$ is the mean of the observed value $y_1,...,y_n$ for a random sample from the distribution of $Y$; and $P(Z\\leq Z_{1-\\alpha/2})=1-\\alpha/2$ with $Z_{1-\\alpha/2}$ obtained from statistical table A, a test of $H_0:\\mu = \\mu_0$ versus $H_1:\\mu \\neq \\mu_0$ (or $\\mu > \\mu_0$ or $\\mu < \\mu_0$) can be conducted at the $100\\alpha\\%$ significance level by using\n",
    "\n",
    "$$\n",
    "Z=\\frac{\\bar{Y}-\\mu_0}{\\sigma/\\sqrt{n}}\\label{eq:16}\\tag{16}\n",
    "$$\n",
    "\n",
    "as the test statistic and rejecting $H_0$ when $z = (\\bar{y}-\\mu_0)/(\\sigma/\\sqrt{n})$ and $|z| \\geq Z_{1-\\alpha/2}$ (or $z\\geq Z_{1-\\alpha}$ or $z\\leq Z_{\\alpha}$). If $\\sigma$ is unknown and the population is normal, Student's $t$ distribution (Statistical Table B) is used with the test statistic\n",
    "\n",
    "$$\n",
    "t=\\frac{\\bar{Y}-\\mu_0}{S/\\sqrt{n}}\\label{eq:17}\\tag{17}\n",
    "$$\n",
    "\n",
    "where $t$ has $n-1$ degrees of freedom, $P(t\\leq t_{1-\\alpha/2})=1-\\alpha/2$, $S$ is the sample standard deviation, and $H_0$ is rejected when $t=(\\bar{y}-\\mu_0)/(s/\\sqrt{n})$ and $|t|\\geq t_{1-\\alpha/2}$ (or $t \\geq t_{1-\\alpha}$ or $t \\leq t_{\\alpha}$). When $Y$ is non-normal and $n$ is at least 30, either Equation [16](#mjx-eqn-eq:16) or [17](#mjx-eqn-eq:17) can be used to test at an approximate $100\\alpha\\%$ significance level."
   ]
  },
  {
   "cell_type": "code",
   "execution_count": 43,
   "metadata": {},
   "outputs": [],
   "source": [
    "upper_z <- (u-Eu)/(s/sqrt(n)) \n",
    "lower_z <- (sqrt(n)*(Eu-u))/s"
   ]
  },
  {
   "cell_type": "markdown",
   "metadata": {},
   "source": [
    "### The $p$ value of a Test Hypothesis\n",
    "\n",
    "In the example of the previous section, $Z = (\\bar{Y}-19.5)(2/\\sqrt{25}) = (\\bar{Y}-19.5)/0.4$ has a standard normal distribution when $Y$ is normally distributed with $\\sigma = 2$ and the null hypothesis is true. After sampling, $\\bar{y}=18.9 mpg$ and $z=-1.5$ were observed. The probability of observing a value of $Z$ at least as extreme as $-1.5$ when $H_0:\\mu=19.5 mpg$ is true is $P(Z\\leq-1.5)=0.0668$ from statistical Table A. This probability, called the $p$ _value_ of the test, indicates that the sample evidence allows one to reject the null hypothesis for any $\\alpha\\geq 0.0668$.\n",
    "\n",
    "In general, the $p$ value of a test is the probability of obtaining a value of the test statistic that is at least as extreme as the calculated value when the null hypothesis is true. It is the smallest significance level at which the null hypothesis can be rejected. Thus, is the agreed-upon value of $\\alpha$ is less than the observed $p$ value the null hypothesis is not rejected.\n",
    "\n",
    "## The Operating Characteristic Curve\n",
    "\n",
    "In the previous example the magnitude of a type II error is denoted as $\\beta$, this is the probability of failing to reject $H_0$ when it is not true. Now $H_1$ in that example states that the true average gasoline mileage is less than 19.5 mpg, and there are many means that satisfy this alternative hypothesis. Thus, $\\beta$ is a function of $\\mu < 19.5$. Lets see how $\\beta$ varies with $\\mu$ by sketching the distributions of $\\bar{Y}$ that these values would generate (assuming that $Y$ is normally distributed and $\\sigma = 2$). Additionally note that the critical region for $\\bar{Y}$ was established as ${\\bar{y}|\\bar{y} \\leq 18.842 mpg}$.\n",
    "From the figure below it can be seen that as one considers $\\mu$ farther and farther to the left of 19.5, the $\\beta$ error decreases."
   ]
  },
  {
   "cell_type": "code",
   "execution_count": 28,
   "metadata": {},
   "outputs": [
    {
     "data": {
      "image/png": "[encoded data removed]",
      "text/plain": [
       "Plot with title “”"
      ]
     },
     "metadata": {},
     "output_type": "display_data"
    }
   ],
   "source": [
    "# Effect of mean on the Type II error\n",
    "par(mfrow=c(3,1)) ; \n",
    "n = 300\n",
    "x1 <- rnorm(n,mean = 19.5, sd=0.4)\n",
    "h1 <- hist(x1,breaks = 1, xlim = c(17,21),ylim=c(0,700),\n",
    "           border = \"white\",main=\"\",xlab = expression(mu == 19.5),ylab = \"\") \n",
    "x1fit <- seq(min(x1),max(x1),length=length(x1)) ; abline(v=19.5,lwd=3) ; abline(v=18.842)\n",
    "y1fit <- dnorm(x1fit,mean=mean(x1),sd=sd(x1)) ; y1fit <- y1fit*diff(h1$mids[1:2])*n\n",
    "lines(x1fit,y1fit,col=\"blue\", lwd=2)\n",
    "text(18,150,expression(alpha == 0.05)) ; text(21,100,expression(bar(y)))\n",
    "\n",
    "x2 <- rnorm(n,mean = 19, sd=0.4)\n",
    "h2 <- hist(x2,breaks = 1, xlim = c(17,21),ylim=c(0,700),\n",
    "           border = \"white\",main=\"\",xlab = expression(mu == 19.0),ylab = \"\") \n",
    "x2fit <- seq(min(x2),max(x2),length=length(x2)) ; abline(v=19.0,lwd=3) ; abline(v=18.842)\n",
    "y2fit <- dnorm(x2fit,mean=mean(x2),sd=sd(x2)) ; y2fit <- y2fit*diff(h2$mids[1:2])*n\n",
    "lines(x2fit,y2fit,col=\"blue\", lwd=2)\n",
    "text(20,600,expression(beta)) ; text(21,100,expression(bar(y)))\n",
    "\n",
    "x3 <- rnorm(n,mean = 18.5, sd=0.4)\n",
    "h3 <- hist(x3,breaks = 1, xlim = c(17,21),ylim=c(0,700),\n",
    "           border = \"white\",main=\"\",xlab = expression(mu == 18.5),ylab = \"\") \n",
    "x3fit <- seq(min(x3),max(x3),length=length(x3)) ; abline(v=18.5,lwd=3) ; abline(v=18.842)\n",
    "y3fit <- dnorm(x3fit,mean=mean(x3),sd=sd(x3)) ; y3fit <- y3fit*diff(h3$mids[1:2])*n\n",
    "lines(x3fit,y3fit,col=\"blue\", lwd=2)\n",
    "text(19.5,400,expression(beta)) ; text(21,100,expression(bar(y)))"
   ]
  },
  {
   "cell_type": "code",
   "execution_count": null,
   "metadata": {},
   "outputs": [],
   "source": []
  },
  {
   "cell_type": "markdown",
   "metadata": {},
   "source": [
    "# Appendix\n",
    "\n",
    "## Working Directory Configuration\n",
    "\n",
    "### Preparing the Working environment"
   ]
  },
  {
   "cell_type": "code",
   "execution_count": 10,
   "metadata": {},
   "outputs": [],
   "source": [
    "x <- c('ggplot2','openxlsx','plyr','gam','gamlss.data','gamlss',\n",
    "      'ggthemes','grid','scales') # List of packages to be used in this analysis\n",
    "packages <- as.data.frame(installed.packages())      # List of currently installed packages\n",
    "\n",
    "for (i in 1:length(x)) {\n",
    "  if(x[i] %in% packages$Package == TRUE){\n",
    "    library(x[i],character.only = TRUE)  \n",
    "  }else if(x[i] %in% packages$Package == FALSE){\n",
    "    install.packages(as.character(x[i]))\n",
    "    library(x[i],character.only = TRUE)  \n",
    "  }\n",
    "}"
   ]
  },
  {
   "cell_type": "code",
   "execution_count": null,
   "metadata": {},
   "outputs": [],
   "source": []
  },
  {
   "cell_type": "markdown",
   "metadata": {},
   "source": [
    "### Special Theme to Aid Figure Visualization when using `ggplot` "
   ]
  },
  {
   "cell_type": "code",
   "execution_count": 25,
   "metadata": {},
   "outputs": [],
   "source": [
    "#library(ggthemes,ggplot2,grid)\n",
    "#library(scales,plyr)\n",
    "theme_Publication <- function(base_size=14,base_family=\"serif\") { # optional to serif/helvetica\n",
    "  (theme_foundation(base_size=base_size, base_family=base_family)\n",
    "   + theme(plot.title = element_text(face = \"bold\",\n",
    "                                     size = rel(1.2), hjust = 0.5),\n",
    "           text = element_text(),\n",
    "           panel.background = element_rect(colour = NA),\n",
    "           plot.background = element_rect(colour = NA),\n",
    "           panel.border = element_rect(colour = NA),\n",
    "           axis.title = element_text(face = \"bold\",size = rel(1)),\n",
    "           axis.title.y = element_text(angle = 90,vjust =2),\n",
    "           axis.title.x = element_text(vjust = -0.2),\n",
    "           axis.text = element_text(),\n",
    "           axis.text.x = element_text(angle = 0), # rotate in case long strings\n",
    "           axis.line = element_line(colour=\"black\"),\n",
    "           axis.ticks = element_line(),\n",
    "           panel.grid.major = element_line(colour=\"#f0f0f0\"),\n",
    "           panel.grid.minor = element_blank(),\n",
    "           legend.key = element_rect(colour = NA),\n",
    "           legend.position = \"bottom\",\n",
    "           legend.direction = \"horizontal\",\n",
    "           legend.key.size= unit(0.2, \"cm\"),\n",
    "           #legend.margin = unit(0, \"cm\"), # optionally comment\n",
    "           legend.title = element_text(face=\"italic\"), #optional == legend.title = element_text(face=\"italic\"), element_blank()\n",
    "           plot.margin=unit(c(10,5,5,5),\"mm\"),\n",
    "           strip.background=element_rect(colour=\"#f0f0f0\",fill=\"#f0f0f0\"),\n",
    "           strip.text = element_text(face=\"bold\")\n",
    "   ))\n",
    "}\n",
    "\n",
    "scale_fill_Publication <- function(...){\n",
    "  discrete_scale(\"fill\",\"Publication\",manual_pal(values = c(\"#386cb0\",\"#fdb462\",\"#7fc97f\",\"#ef3b2c\",\"#662506\",\"#a6cee3\",\"#fb9a99\",\"#984ea3\",\"#ffff33\")),...)\n",
    "}\n",
    "\n",
    "scale_colour_Publication <- function(...){\n",
    "  discrete_scale(\"colour\",\"Publication\",manual_pal(values = c(\"#386cb0\",\"#fdb462\",\"#7fc97f\",\"#ef3b2c\",\"#662506\",\"#a6cee3\",\"#fb9a99\",\"#984ea3\",\"#ffff33\")),...)\n",
    "}"
   ]
  },
  {
   "cell_type": "code",
   "execution_count": null,
   "metadata": {},
   "outputs": [],
   "source": []
  }
 ],
 "metadata": {
  "kernelspec": {
   "display_name": "R",
   "language": "R",
   "name": "ir"
  },
  "language_info": {
   "codemirror_mode": "r",
   "file_extension": ".r",
   "mimetype": "text/x-r-source",
   "name": "R",
   "pygments_lexer": "r",
   "version": "3.6.0"
  },
  "toc": {
   "base_numbering": 1,
   "nav_menu": {
    "height": "303px",
    "width": "311px"
   },
   "number_sections": true,
   "sideBar": true,
   "skip_h1_title": false,
   "title_cell": "Table of Contents",
   "title_sidebar": "Contents",
   "toc_cell": false,
   "toc_position": {},
   "toc_section_display": true,
   "toc_window_display": true
  }
 },
 "nbformat": 4,
 "nbformat_minor": 2
}
